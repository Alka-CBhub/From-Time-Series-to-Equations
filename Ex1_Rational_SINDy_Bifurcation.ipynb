{
 "cells": [
  {
   "cell_type": "code",
   "execution_count": 1,
   "id": "967064a1-fcb5-4ec5-8fc9-96eb85a84d06",
   "metadata": {},
   "outputs": [
    {
     "name": "stdout",
     "output_type": "stream",
     "text": [
      "3.10.18 | packaged by conda-forge | (main, Jun  4 2025, 14:42:04) [MSC v.1943 64 bit (AMD64)]\n",
      "------------------------------------------------------------------------------------------------------------------------\n",
      "sys.platform   : win32\n",
      "platform.system(): Windows\n",
      "os.name : nt\n"
     ]
    }
   ],
   "source": [
    "# Import necessary Libraries\n",
    "import os\n",
    "import sys, platform, os\n",
    "print(sys.version)\n",
    "print(\"--\"* 60)\n",
    "print(\"sys.platform   :\", sys.platform)\n",
    "print(\"platform.system():\", platform.system())  \n",
    "print(\"os.name :\", os.name)   \n",
    "# print(sys.executable)\n",
    "# print(\"--\"* 60)"
   ]
  },
  {
   "cell_type": "code",
   "execution_count": 2,
   "id": "b67fc7a9-480a-4165-9383-69d9c9dddae6",
   "metadata": {},
   "outputs": [
    {
     "name": "stdout",
     "output_type": "stream",
     "text": [
      "Current directory: C:\\Users\\alkas\\Downloads\\Cell_Cycle_updated_Files\\Cell_Cycle_updated_Files\\All_DATA_Code_Files\n"
     ]
    }
   ],
   "source": [
    "print(\"Current directory:\", os.getcwd())"
   ]
  },
  {
   "cell_type": "code",
   "execution_count": 3,
   "id": "a3411cd3-555d-4ea5-83a7-97a2379e5723",
   "metadata": {},
   "outputs": [],
   "source": [
    "import numpy as np\n",
    "import pandas as pd\n",
    "import matplotlib.pyplot as plt\n",
    "import matplotlib.ticker as ticker\n",
    "from plot_utils import set_plot_style, set_spines_black"
   ]
  },
  {
   "cell_type": "code",
   "execution_count": 4,
   "id": "4d885d70-bf0b-4a27-8c98-ade145867ec6",
   "metadata": {},
   "outputs": [
    {
     "name": "stdout",
     "output_type": "stream",
     "text": [
      "Top Five rows in the DAT File:\n",
      "         0        1        2    3    4    5\n",
      "0  5.00000  1.38921  1.38921  2.0  1.0  0.0\n",
      "1  5.00966  1.38663  1.38663  1.0  1.0  0.0\n",
      "2  5.01933  1.38406  1.38406  1.0  1.0  0.0\n",
      "3  5.02899  1.38149  1.38149  1.0  1.0  0.0\n",
      "4  5.03866  1.37894  1.37894  1.0  1.0  0.0\n",
      "************************************************************\n",
      "Number of unique values in each column:\n",
      "0    2897\n",
      "1    2944\n",
      "2    2948\n",
      "3       4\n",
      "4       2\n",
      "5       1\n",
      "dtype: int64\n"
     ]
    }
   ],
   "source": [
    "# Load the data\n",
    "x = np.loadtxt(\"DAT_Files/Ex1_Rational_SINDy.dat\")\n",
    "df = pd.DataFrame(x)\n",
    "print(\"Top Five rows in the DAT File:\")\n",
    "print(df.head(5))\n",
    "print(\"*\"* 60)\n",
    "print(\"Number of unique values in each column:\")\n",
    "print(df.nunique())\n"
   ]
  },
  {
   "cell_type": "code",
   "execution_count": 5,
   "id": "39e2014a-421c-4b85-a3b3-bdc51b3fec00",
   "metadata": {},
   "outputs": [],
   "source": [
    "# Columns\n",
    "S = x[:, 0]         \n",
    "R1 = x[:, 1]\n",
    "R2 = x[:, 2]\n",
    "regime = x[:, 3].astype(int)"
   ]
  },
  {
   "cell_type": "code",
   "execution_count": 6,
   "id": "e16d76a6-c184-4f7d-bcf5-ecde7ddded2a",
   "metadata": {},
   "outputs": [],
   "source": [
    "# Find steady state indices for each regime (and positive R1)\n",
    "ss1 = np.unique(np.where((regime == 1) & (R1 > 0))[0])\n",
    "ss2 = np.unique(np.where((regime == 2) & (R1 > 0))[0]) \n",
    "ss3 = np.unique(np.where((regime == 3) & (R1 > 0))[0])\n",
    "ss4 = np.unique(np.where((regime == 4) & (R1 > 0))[0])"
   ]
  },
  {
   "cell_type": "code",
   "execution_count": 7,
   "id": "8613c377-dfe3-4242-ae6c-6e0e7b8b0fd2",
   "metadata": {},
   "outputs": [
    {
     "name": "stdout",
     "output_type": "stream",
     "text": [
      "Index where unstable branch starts: 572\n",
      "Index where unstable branch ends: 1483\n"
     ]
    }
   ],
   "source": [
    "ss2 = np.where(x[:, 3] == 2)[0]\n",
    "print('Index where unstable branch starts:', ss2[1])\n",
    "print('Index where unstable branch ends:', ss2[-1])"
   ]
  },
  {
   "cell_type": "code",
   "execution_count": 8,
   "id": "827149eb-6b0d-4651-8a14-2a19fd208dc3",
   "metadata": {},
   "outputs": [
    {
     "name": "stdout",
     "output_type": "stream",
     "text": [
      "Saddle-node 1: x=18.7206, y=0.4516\n",
      "Saddle-node 2: x=10.6260, y=0.5677\n"
     ]
    }
   ],
   "source": [
    "# coordinates of saddle‐node points\n",
    "x_sn1, y_sn1 = x[ss2[-1], 0], x[ss2[-1], 1]\n",
    "x_sn2, y_sn2 = x[ss2[1], 0], x[ss2[1], 1]\n",
    "print(f\"Saddle-node 1: x={x_sn1:.4f}, y={y_sn1:.4f}\")\n",
    "print(f\"Saddle-node 2: x={x_sn2:.4f}, y={y_sn2:.4f}\")"
   ]
  },
  {
   "cell_type": "code",
   "execution_count": 9,
   "id": "89f74a1d-dcb3-49ab-9df0-99a2df4bb952",
   "metadata": {},
   "outputs": [
    {
     "name": "stdout",
     "output_type": "stream",
     "text": [
      "Closest match to 18.72442 is 18.7244 (diff=2.00e-05)\n",
      "regime=1, R1=0.451636\n",
      "Final Hopf indices: [np.int64(1484)]\n"
     ]
    }
   ],
   "source": [
    "# Identify Hopf parameter values from AUTO\n",
    "hb_params = [18.72442] \n",
    "hb_indices = []\n",
    "tol = 1e-6\n",
    "for val in hb_params:\n",
    "    diffs = np.abs(S - val)\n",
    "    idx0  = np.argmin(diffs)\n",
    "    if diffs[idx0] > tol:\n",
    "        print(f\"Closest match to {val} is {S[idx0]} (diff={diffs[idx0]:.2e})\")\n",
    "    else:\n",
    "        print(f\"Found Hopf at S[{idx0}] = {S[idx0]}\")\n",
    "    print(f\"regime={regime[idx0]}, R1={R1[idx0]}\")\n",
    "    hb_indices.append(idx0)\n",
    "\n",
    "print(\"Final Hopf indices:\", hb_indices)"
   ]
  },
  {
   "cell_type": "code",
   "execution_count": 10,
   "id": "bd51cc41-cf6f-42f2-b8b0-1611770665a3",
   "metadata": {},
   "outputs": [],
   "source": [
    "hopf_idx = 1484\n",
    "x_hb, y_hb = S[hopf_idx], R1[hopf_idx]"
   ]
  },
  {
   "cell_type": "code",
   "execution_count": 11,
   "id": "f6a5102b-3d3e-4e56-bc62-aafbfc36ff11",
   "metadata": {},
   "outputs": [],
   "source": [
    "ss2 = ss2[1:]"
   ]
  },
  {
   "cell_type": "code",
   "execution_count": 12,
   "id": "c5ea1486-aa70-43b3-9da6-bcb3781c0280",
   "metadata": {},
   "outputs": [
    {
     "data": {
      "image/png": "[encoded data removed]",
      "text/plain": [
       "<Figure size 700x500 with 1 Axes>"
      ]
     },
     "metadata": {},
     "output_type": "display_data"
    }
   ],
   "source": [
    "# Initialize Figure\n",
    "set_plot_style(dpi=100)\n",
    "plt.figure(figsize=(7, 5))\n",
    "\n",
    "# Define masks explicitly\n",
    "red_mask1= (S[ss1] > x_hb)\n",
    "red_mask2= (S[ss1] < x_sn1)\n",
    "# Regime 1:\n",
    "plt.plot(S[ss1][red_mask1], R1[ss1][red_mask1], 'r-', linewidth=3, label='SS')\n",
    "plt.plot(S[ss1][red_mask2], R1[ss1][red_mask2], 'r-', linewidth=3)\n",
    "# Regime 2:\n",
    "plt.plot(S[ss2], R1[ss2], 'k-', linewidth=3, label='USS')\n",
    "\n",
    "# # Regime 3: \n",
    "neon_lime = '#00FF00'  \n",
    "plt.plot(S[ss3], R1[ss3], '-', color=neon_lime, linewidth=3, label='SLC')\n",
    "plt.plot(S[ss3], R2[ss3], '-', color=neon_lime, linewidth=3)\n",
    "\n",
    "# Regime 4: \n",
    "plt.plot(S[ss4][1:], R1[ss4][1:],  'b-', linewidth=3.5)\n",
    "plt.plot(S[ss4][1:], R2[ss4][1:],  'b-', linewidth=3.5)\n",
    "\n",
    "\n",
    "# Mark the Hopf point \n",
    "plt.plot(x_hb, y_hb,\n",
    "         marker='o', linestyle='',\n",
    "         markeredgecolor='b', markerfacecolor='white',\n",
    "         markersize=12, mew=2)\n",
    "\n",
    "plt.text(\n",
    "    x_hb+0.02, y_hb-0.03,\n",
    "    r'$\\leftarrow\\,HB$',\n",
    "    fontsize=16,\n",
    "    fontweight='bold'\n",
    ")\n",
    "\n",
    "# Grid, labels, and styling\n",
    "plt.grid(True, which='both', ls='--', lw=0.5)\n",
    "plt.title('Codimension-one Bifurcation Diagram')\n",
    "plt.xlabel(r'$a_1$ (SINDy)', fontsize=16)\n",
    "plt.ylabel(r'$s*$', fontweight='bold', fontsize=16)\n",
    "plt.xlim(5, 25)\n",
    "plt.ylim(0, 1.2)\n",
    "\n",
    "# Thicken and color the axis spines\n",
    "ax = plt.gca()\n",
    "set_spines_black(ax) \n",
    "\n",
    "plt.legend(loc='lower right', fontsize=12, frameon=False)\n",
    "# Save and show\n",
    "plt.savefig(\"Plots_1/CDK1_APC_PF_Rational_SINDy_Bifurcation.pdf\", bbox_inches=\"tight\")\n",
    "plt.show()\n",
    "\n"
   ]
  },
  {
   "cell_type": "code",
   "execution_count": 13,
   "id": "6faaacfe-e413-4fce-84ab-0c290ada6eff",
   "metadata": {},
   "outputs": [],
   "source": [
    "##############################################################################################################################################"
   ]
  }
 ],
 "metadata": {
  "kernelspec": {
   "display_name": "Python 3 (ipykernel)",
   "language": "python",
   "name": "python3"
  },
  "language_info": {
   "codemirror_mode": {
    "name": "ipython",
    "version": 3
   },
   "file_extension": ".py",
   "mimetype": "text/x-python",
   "name": "python",
   "nbconvert_exporter": "python",
   "pygments_lexer": "ipython3",
   "version": "3.10.18"
  }
 },
 "nbformat": 4,
 "nbformat_minor": 5
}
