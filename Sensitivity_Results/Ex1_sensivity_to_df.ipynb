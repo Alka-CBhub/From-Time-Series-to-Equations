{
 "cells": [
  {
   "cell_type": "code",
   "execution_count": 1,
   "id": "64018210-3849-4102-856d-75837657cdbd",
   "metadata": {},
   "outputs": [
    {
     "name": "stdout",
     "output_type": "stream",
     "text": [
      "Current working directory: C:\\Users\\alkas\\Downloads\\Cell_Cycle_updated_Files\\Cell_Cycle_updated_Files\\All_DATA_Code_Files\\Sensitivity_Results\n"
     ]
    }
   ],
   "source": [
    "import os\n",
    "print(\"Current working directory:\", os.getcwd())"
   ]
  },
  {
   "cell_type": "code",
   "execution_count": 2,
   "id": "e7b114ce-2ef2-49e2-86dd-74156b84cf3e",
   "metadata": {},
   "outputs": [],
   "source": [
    "import pandas as pd\n",
    "from txt_data_frame import read_block"
   ]
  },
  {
   "cell_type": "code",
   "execution_count": 3,
   "id": "da58304e-48ca-4054-8905-a60a517c7262",
   "metadata": {},
   "outputs": [],
   "source": [
    "## Original"
   ]
  },
  {
   "cell_type": "code",
   "execution_count": 4,
   "id": "dd3bd6c3-381f-46db-bd1d-88938d776ac6",
   "metadata": {},
   "outputs": [],
   "source": [
    "with open(\"Ex1_Ori.txt\") as f:\n",
    "    lines = [ln.rstrip() for ln in f]\n",
    "\n",
    "df_raw  = read_block(lines, \"Sensitivities array\")\n",
    "df_scaled = read_block(lines, \"Scaled sensitivities array\")\n",
    "# Define targets and prefix\n",
    "targets = [\"CDK1\", \"APC\"]\n",
    "prefix = \"Ex1_Ori\"\n",
    "\n",
    "# Loop to create and save DataFrames\n",
    "for target in targets:\n",
    "    df = pd.DataFrame({\"Raw\": df_raw.loc[target], \"Scaled\": df_scaled.loc[target]})\n",
    "    df.to_csv(f\"{prefix}_df_{target}.csv\")\n"
   ]
  },
  {
   "cell_type": "code",
   "execution_count": 5,
   "id": "2a7d5dc1-2df9-40ef-b4d4-b967bd997abc",
   "metadata": {},
   "outputs": [],
   "source": [
    "## Original Rational"
   ]
  },
  {
   "cell_type": "code",
   "execution_count": 6,
   "id": "a1fcf3a3-a84b-42e9-bf5f-0a2e39f12869",
   "metadata": {},
   "outputs": [],
   "source": [
    "with open(\"Ex1_Rational_x.txt\") as f:\n",
    "    lines = [ln.rstrip() for ln in f]\n",
    "\n",
    "df_raw = read_block(lines, \"Sensitivities array\")\n",
    "df_scaled = read_block(lines, \"Scaled sensitivities array\")\n",
    "# Define targets and prefix\n",
    "targets = [\"CDK1\", \"APC\"]\n",
    "prefix = \"Ex1_Rational_x\"\n",
    "\n",
    "# Loop to create and save DataFrames\n",
    "for target in targets:\n",
    "    df = pd.DataFrame({\"Raw\": df_raw.loc[target], \"Scaled\": df_scaled.loc[target]})\n",
    "    df.to_csv(f\"{prefix}_df_{target}.csv\")\n"
   ]
  },
  {
   "cell_type": "code",
   "execution_count": 7,
   "id": "e0cacf44-eedb-45ba-a053-360060154358",
   "metadata": {},
   "outputs": [],
   "source": [
    "## SINDy Rational"
   ]
  },
  {
   "cell_type": "code",
   "execution_count": 8,
   "id": "3ef199b9-af05-4607-b0b2-4620d7751e3d",
   "metadata": {},
   "outputs": [],
   "source": [
    "with open(\"Ex1_Rational_x_s.txt\") as f:\n",
    "    lines = [ln.rstrip() for ln in f]\n",
    "\n",
    "df_raw = read_block(lines, \"Sensitivities array\")\n",
    "df_scaled = read_block(lines, \"Scaled sensitivities array\")\n",
    "# Define targets and prefix\n",
    "targets = [\"CDK1\", \"APC\"]\n",
    "prefix = \"Ex1_Rational_x_s\"\n",
    "\n",
    "# Loop to create and save DataFrames\n",
    "for target in targets:\n",
    "    df = pd.DataFrame({\"Raw\": df_raw.loc[target], \"Scaled\": df_scaled.loc[target]})\n",
    "    df.to_csv(f\"{prefix}_df_{target}.csv\")\n"
   ]
  },
  {
   "cell_type": "code",
   "execution_count": 9,
   "id": "92a3c3f4-cb5e-4ab5-9e37-0e769ec1fcb3",
   "metadata": {},
   "outputs": [],
   "source": [
    "###################################################################################################################################"
   ]
  }
 ],
 "metadata": {
  "kernelspec": {
   "display_name": "Python 3 (ipykernel)",
   "language": "python",
   "name": "python3"
  },
  "language_info": {
   "codemirror_mode": {
    "name": "ipython",
    "version": 3
   },
   "file_extension": ".py",
   "mimetype": "text/x-python",
   "name": "python",
   "nbconvert_exporter": "python",
   "pygments_lexer": "ipython3",
   "version": "3.10.18"
  }
 },
 "nbformat": 4,
 "nbformat_minor": 5
}
