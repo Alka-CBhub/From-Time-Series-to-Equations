{
 "cells": [
  {
   "cell_type": "code",
   "execution_count": 1,
   "id": "9be4d294-3e06-4e8c-a6c2-e0d3c961d8e1",
   "metadata": {},
   "outputs": [
    {
     "name": "stdout",
     "output_type": "stream",
     "text": [
      "3.10.18 | packaged by conda-forge | (main, Jun  4 2025, 14:42:04) [MSC v.1943 64 bit (AMD64)]\n",
      "------------------------------------------------------------------------------------------------------------------------\n",
      "sys.platform   : win32\n",
      "platform.system(): Windows\n",
      "os.name : nt\n"
     ]
    }
   ],
   "source": [
    "import sys, platform, os\n",
    "print(sys.version)\n",
    "print(\"--\"* 60)\n",
    "print(\"sys.platform   :\", sys.platform)\n",
    "print(\"platform.system():\", platform.system())  \n",
    "print(\"os.name :\", os.name)   \n",
    "# print(sys.executable)\n",
    "# print(\"--\"* 60)"
   ]
  },
  {
   "cell_type": "code",
   "execution_count": 2,
   "id": "b67fc7a9-480a-4165-9383-69d9c9dddae6",
   "metadata": {},
   "outputs": [
    {
     "name": "stdout",
     "output_type": "stream",
     "text": [
      "Current directory: C:\\Users\\alkas\\Downloads\\Cell_Cycle_updated_Files\\Cell_Cycle_updated_Files\\All_DATA_Code_Files\n"
     ]
    }
   ],
   "source": [
    "print(\"Current directory:\", os.getcwd())"
   ]
  },
  {
   "cell_type": "code",
   "execution_count": 3,
   "id": "c67a58c8-ed9b-4412-a689-f2758f419bf3",
   "metadata": {},
   "outputs": [],
   "source": [
    "import numpy as np\n",
    "import pandas as pd\n",
    "import matplotlib.pyplot as plt\n",
    "from plot_utils import set_plot_style, set_spines_black"
   ]
  },
  {
   "cell_type": "code",
   "execution_count": 4,
   "id": "4d812cd9-4c88-4685-b370-065bf656698f",
   "metadata": {},
   "outputs": [
    {
     "name": "stdout",
     "output_type": "stream",
     "text": [
      "          0       1       2    3    4    5\n",
      "0  0.000000  28.404  28.404  2.0  1.0  0.0\n",
      "1  0.000041  28.394  28.394  1.0  1.0  0.0\n",
      "2  0.000082  28.384  28.384  1.0  1.0  0.0\n",
      "3  0.000124  28.374  28.374  1.0  1.0  0.0\n",
      "4  0.000165  28.364  28.364  1.0  1.0  0.0\n"
     ]
    }
   ],
   "source": [
    "# Load the data (.dat FILE))\n",
    "x = np.loadtxt('DAT_Files/Ex1_Rational.dat')\n",
    "df = pd.DataFrame(x)\n",
    "print(df.head(5))"
   ]
  },
  {
   "cell_type": "code",
   "execution_count": 5,
   "id": "b9594ca7-2ee0-4633-b9a5-21cc8a7c852e",
   "metadata": {},
   "outputs": [
    {
     "name": "stdout",
     "output_type": "stream",
     "text": [
      "0    3986\n",
      "1    3993\n",
      "2    3992\n",
      "3       4\n",
      "4       2\n",
      "5       1\n",
      "dtype: int64\n"
     ]
    }
   ],
   "source": [
    "print(df.nunique())"
   ]
  },
  {
   "cell_type": "code",
   "execution_count": 6,
   "id": "7e3dc9fe-7410-48ee-a918-4dd086624435",
   "metadata": {},
   "outputs": [],
   "source": [
    "# Columns\n",
    "S = x[:, 0] # Signal/ Parameter\n",
    "R1 = x[:, 1]\n",
    "R2 = x[:, 2]\n",
    "regime = x[:, 3].astype(int)"
   ]
  },
  {
   "cell_type": "code",
   "execution_count": 7,
   "id": "1fa19f51-2470-45e8-93b7-1ec1a9ed3076",
   "metadata": {},
   "outputs": [],
   "source": [
    "# Find steady state indices for each regime (and positive R1)\n",
    "ss1 = np.unique(np.where((regime == 1) & (R1 > 0))[0])\n",
    "ss2 = np.unique(np.where((regime == 2) & (R1 > 0))[0]) \n",
    "ss3 = np.unique(np.where((regime == 3) & (R1 > 0))[0])\n",
    "ss4 = np.unique(np.where((regime == 4) & (R1 > 0))[0])"
   ]
  },
  {
   "cell_type": "code",
   "execution_count": 8,
   "id": "22147a69-002b-4f64-9afa-1c2770f9d562",
   "metadata": {},
   "outputs": [
    {
     "name": "stdout",
     "output_type": "stream",
     "text": [
      "Index where unstable branch starts: 3036\n",
      "Index where unstable branch ends: 3451\n"
     ]
    }
   ],
   "source": [
    "ss2 = np.where(x[:, 3] == 2)[0]\n",
    "print('Index where unstable branch starts:', ss2[1])\n",
    "print('Index where unstable branch ends:', ss2[-1])"
   ]
  },
  {
   "cell_type": "code",
   "execution_count": 9,
   "id": "c987f89c-5300-4d75-b05a-0c3812ab97b0",
   "metadata": {},
   "outputs": [
    {
     "name": "stdout",
     "output_type": "stream",
     "text": [
      "Saddle-node 1: x=8.5822, y=0.4512\n",
      "Saddle-node 2: x=4.8919, y=0.5643\n"
     ]
    }
   ],
   "source": [
    "# coordinates of saddle‐node points\n",
    "x_sn1, y_sn1 = x[ss2[-1], 0], x[ss2[-1], 1]\n",
    "x_sn2, y_sn2 = x[ss2[1], 0], x[ss2[1], 1]\n",
    "print(f\"Saddle-node 1: x={x_sn1:.4f}, y={y_sn1:.4f}\")\n",
    "print(f\"Saddle-node 2: x={x_sn2:.4f}, y={y_sn2:.4f}\")"
   ]
  },
  {
   "cell_type": "code",
   "execution_count": 10,
   "id": "8f088a33-6c46-42c8-a3f1-fc92c3c991f9",
   "metadata": {},
   "outputs": [
    {
     "name": "stdout",
     "output_type": "stream",
     "text": [
      "Found Hopf at S[3452] = 8.58601\n",
      "regime=1, R1=0.45115\n",
      "Final Hopf indices: [np.int64(3452)]\n"
     ]
    }
   ],
   "source": [
    "# Identify Hopf parameter values from AUTO\n",
    "hb_params = [ 8.586011] \n",
    "hb_indices = []\n",
    "tol = 1e-6\n",
    "for val in hb_params:\n",
    "    diffs = np.abs(S - val)\n",
    "    idx0  = np.argmin(diffs)\n",
    "    if diffs[idx0] > tol:\n",
    "        print(f\"Closest match to {val} is {S[idx0]} (diff={diffs[idx0]:.2e})\")\n",
    "    else:\n",
    "        print(f\"Found Hopf at S[{idx0}] = {S[idx0]}\")\n",
    "    print(f\"regime={regime[idx0]}, R1={R1[idx0]}\")\n",
    "    hb_indices.append(idx0)\n",
    "\n",
    "print(\"Final Hopf indices:\", hb_indices)"
   ]
  },
  {
   "cell_type": "code",
   "execution_count": 11,
   "id": "a6b376f6-649c-4438-81d3-7c0c1ea89441",
   "metadata": {},
   "outputs": [],
   "source": [
    "hopf_idx = 3452\n",
    "x_hb, y_hb = S[hopf_idx], R1[hopf_idx]"
   ]
  },
  {
   "cell_type": "code",
   "execution_count": 12,
   "id": "84a42868-950a-4ead-9b9e-a629e702c397",
   "metadata": {},
   "outputs": [],
   "source": [
    "ss2 = ss2[1:]"
   ]
  },
  {
   "cell_type": "code",
   "execution_count": 13,
   "id": "128264d9-aae2-431f-a382-79d74f30cbeb",
   "metadata": {},
   "outputs": [
    {
     "data": {
      "image/png": "[encoded data removed]",
      "text/plain": [
       "<Figure size 700x500 with 1 Axes>"
      ]
     },
     "metadata": {},
     "output_type": "display_data"
    }
   ],
   "source": [
    "# Initialize Figure\n",
    "set_plot_style(dpi=100)\n",
    "plt.figure(figsize=(7, 5))\n",
    "\n",
    "# Define masks explicitly\n",
    "red_mask1= (S[ss1] > x_hb)\n",
    "red_mask2= (S[ss1] < x_sn1)\n",
    "# Regime 1:\n",
    "plt.plot(S[ss1][red_mask1], R1[ss1][red_mask1], 'r-', linewidth=3, label='SS')\n",
    "plt.plot(S[ss1][red_mask2], R1[ss1][red_mask2], 'r-', linewidth=3)\n",
    "# Regime 2:\n",
    "plt.plot(S[ss2], R1[ss2], 'k-', linewidth=3, label='USS')\n",
    "\n",
    "# Regime 3: \n",
    "neon_lime = '#00FF00'  \n",
    "plt.plot(S[ss3], R1[ss3], '-', color=neon_lime, linewidth=3, label='SLC')\n",
    "plt.plot(S[ss3], R2[ss3], '-', color=neon_lime, linewidth=3)\n",
    "\n",
    "# Regime 4: \n",
    "plt.plot(S[ss4][2:], R1[ss4][2:],  'b-', linewidth=3.5)\n",
    "plt.plot(S[ss4][2:], R2[ss4][2:],  'b-', linewidth=3.5)\n",
    "\n",
    "\n",
    "# Mark the Hopf point \n",
    "plt.plot(x_hb, y_hb,\n",
    "         marker='o', linestyle='',\n",
    "         markeredgecolor='b', markerfacecolor='white',\n",
    "         markersize=12, mew=2)\n",
    "\n",
    "plt.text(\n",
    "    x_hb+0.02, y_hb-0.03,\n",
    "    r'$\\leftarrow\\,HB$',\n",
    "    fontsize=16,\n",
    "    fontweight='bold'\n",
    ")\n",
    "\n",
    "# Grid, labels, and styling\n",
    "plt.grid(True, which='both', ls='--', lw=0.5)\n",
    "plt.title('Codimension-one Bifurcation Diagram')\n",
    "plt.xlabel(r'$a_1$')\n",
    "plt.ylabel(r'$x*$')\n",
    "plt.xlim(3, 10)\n",
    "plt.ylim(0, 1)\n",
    "\n",
    "# Thicken and color the axis spines\n",
    "ax = plt.gca()\n",
    "set_spines_black(ax) \n",
    "\n",
    "plt.legend(loc='lower right', fontsize=12, frameon=False)\n",
    "# Save and show\n",
    "plt.savefig(\"Plots_1/CDK1_APC_PF_Rational_Bifurcation.pdf\", bbox_inches=\"tight\")\n",
    "plt.show()\n"
   ]
  },
  {
   "cell_type": "code",
   "execution_count": 14,
   "id": "6faaacfe-e413-4fce-84ab-0c290ada6eff",
   "metadata": {},
   "outputs": [],
   "source": [
    "##############################################################################################################################################"
   ]
  }
 ],
 "metadata": {
  "kernelspec": {
   "display_name": "Python 3 (ipykernel)",
   "language": "python",
   "name": "python3"
  },
  "language_info": {
   "codemirror_mode": {
    "name": "ipython",
    "version": 3
   },
   "file_extension": ".py",
   "mimetype": "text/x-python",
   "name": "python",
   "nbconvert_exporter": "python",
   "pygments_lexer": "ipython3",
   "version": "3.10.18"
  }
 },
 "nbformat": 4,
 "nbformat_minor": 5
}
